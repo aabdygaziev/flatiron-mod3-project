{
 "cells": [
  {
   "cell_type": "markdown",
   "metadata": {},
   "source": [
    "# Project write-up"
   ]
  },
  {
   "cell_type": "markdown",
   "metadata": {},
   "source": [
    "One of the defining features of Trump's presidency is his usage of his twitter account. Many have expressed concern whether or not his, at times seemingly reckless, usage of his twitter could have a lasting, potentially negative, impact. To address these concerns, we have embarked on a project to determine the impact of Trump's twitter presence on his approval rating and the stock market. In particular, what we investigated was:\n",
    "- The impact of Trump's total tweets per day on his approval rating\n",
    "- The impact of Trump's total tweets per day on the stock market\n",
    "- The impact of the average number of favorites per tweet per day on his approval rating\n",
    "- The impact of the average number of favorites per tweet per day on the stock market\n",
    "\n"
   ]
  },
  {
   "cell_type": "markdown",
   "metadata": {},
   "source": [
    "Our data were obtained from the following sources:\n",
    "- Alpha vantage API was used for S&P 500 stock market information\n",
    "- Tweets were obtained from trumptwitterarchive.com\n",
    "- Approval rating was obtained through fivethirtyeight.com"
   ]
  },
  {
   "cell_type": "markdown",
   "metadata": {},
   "source": [
    "To investigate these hypotheses, we classified each day as having either a low number of tweets or a high number of tweets, which we defined as having either less than 10 tweets or having 20 or more tweets. From there we turned to our stock market database and our approval rating database. We compared the data on the days where were a low number of tweets and the days where there were a high number of tweets. From this analysis, we were able to prove our first null hypothesis and disprove our second. In other words, we found that there is no connection between the number of tweets Trump makes per day, but there is between the volume of tweets and the performace of the stock market."
   ]
  },
  {
   "cell_type": "markdown",
   "metadata": {},
   "source": [
    "In a statistical analysis, the P value indicates our certainty that two variables are related. The lower the P value is, the more certain we are that there is a relationship between two variables. Typically, if a P value is 0.05 or below, we say that there is a relationship between these two variables. Otherwise, we conclude that there is no relationship, or correlation, between the two variables. Our P value obtained for Trump's approval versus his tweet count was P = 0.128, which indicates that there is not a correlation between Trump's approval rating and tweet count. As demonstrated in this graph, while his tweet count vaires somewhat wildly, his approval stays relatively steady in comparison."
   ]
  },
  {
   "cell_type": "markdown",
   "metadata": {},
   "source": [
    "![approval_vs_count](approved_vs_count.png)"
   ]
  },
  {
   "cell_type": "markdown",
   "metadata": {},
   "source": [
    "In contrast, we found that there is a connection between the number of tweets per day and the performance of the stock market (P = 0.011), particularly that the more he tweeted, the worse the stock market did, illustrated in the graph below:"
   ]
  },
  {
   "cell_type": "markdown",
   "metadata": {},
   "source": [
    "![stocks_vs_tweets](stocks_vs_tweets.png)"
   ]
  },
  {
   "cell_type": "markdown",
   "metadata": {},
   "source": [
    "The process for analyzing the relationship between the number of tweet favorites and both approval and stock market performace was similar to our process for analyzing the relationship between these two vairables and tweet count. By tweet favorite, we mean the number of times a tweet is liked. Since, as you know, his tweet count per day varies wildly, we calculated the average number of likes per tweet for each day, so the tweet volume on a given day did not impact our results. From there, we divided the days into two categories: days where the average number of likes per tweet was under 100, and days where the average number of likes per tweet was 200000 or more. From there, as we did for the tweet volume analysis, we divided the stock market performace and approval rating into those two categories. We found that neither approval rating (P = 0.276) nor stock market performance (P = 0.275) had a correlation with average likes per day. In the visualization below, each bucket has the number of tweets in 5% of the average daily favorites. As you can tell, while it may appear from the first six bars that approval and average daily favorites have a positive correlation (the more favorites, the higher the approval rating), the whole graph demonstrates that there is no clear relationship between the two variables"
   ]
  },
  {
   "cell_type": "markdown",
   "metadata": {},
   "source": [
    "![approval_vs_fav](Approval_vs_Favorites.png)"
   ]
  },
  {
   "cell_type": "markdown",
   "metadata": {},
   "source": [
    "Finally, this visualization below of the stock market performace versus average daily likes demonstates that while the stock market seems have a positive slope, the average number of likes, with a few outliers, remains relatively steady for the most part. This demonstrates that there is no relationship between the two variables"
   ]
  },
  {
   "cell_type": "markdown",
   "metadata": {},
   "source": [
    "![avg_fav_tweets vs closing_price](avg_fav_tweets_vs_closing_price.png)"
   ]
  },
  {
   "cell_type": "markdown",
   "metadata": {},
   "source": [
    "In this analysis, we compared Trump's number of tweets per day and the average number of likes per tweet per day with his approval rating and the performance of the stock market. We found that the only instance in which there is a correlation is that the more Trump tweets, the worse the stock market does. The average number of likes per tweet per day does not have a relationship to stock market performance, and neither the total number of tweets per day nor the average number of likes per tweet per day affect Trump's approval rating. Given these findings, a future study that may be of interest is the relationship between approval rating, stock performance and the content of these tweets. For example, does approval rating go up if he discusses building a wall between the US and Mexico? Does the stock market do worse if he discusses tariffs?"
   ]
  },
  {
   "cell_type": "code",
   "execution_count": null,
   "metadata": {},
   "outputs": [],
   "source": []
  }
 ],
 "metadata": {
  "kernelspec": {
   "display_name": "Python 3",
   "language": "python",
   "name": "python3"
  },
  "language_info": {
   "codemirror_mode": {
    "name": "ipython",
    "version": 3
   },
   "file_extension": ".py",
   "mimetype": "text/x-python",
   "name": "python",
   "nbconvert_exporter": "python",
   "pygments_lexer": "ipython3",
   "version": "3.7.3"
  }
 },
 "nbformat": 4,
 "nbformat_minor": 4
}
