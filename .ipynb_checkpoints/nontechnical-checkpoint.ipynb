{
 "cells": [
  {
   "cell_type": "markdown",
   "metadata": {},
   "source": [
    "# Project write-up"
   ]
  },
  {
   "cell_type": "markdown",
   "metadata": {},
   "source": [
    "In this project we wanted to investigate the impact of Donald Trumps tweets on his approval rating and the stock market. To do this we classified each day as having either a low number of tweets, which we defined as having less than 15 tweets, or as having a high number of tweets, which we defined as having 15 or more tweets. From there we took the table of daily approval ratings we obtained, and compared the approval ratings on the days with a high volume of tweets and the days with a low volume of tweets. "
   ]
  }
 ],
 "metadata": {
  "kernelspec": {
   "display_name": "Python 3",
   "language": "python",
   "name": "python3"
  },
  "language_info": {
   "codemirror_mode": {
    "name": "ipython",
    "version": 3
   },
   "file_extension": ".py",
   "mimetype": "text/x-python",
   "name": "python",
   "nbconvert_exporter": "python",
   "pygments_lexer": "ipython3",
   "version": "3.7.3"
  }
 },
 "nbformat": 4,
 "nbformat_minor": 4
}
