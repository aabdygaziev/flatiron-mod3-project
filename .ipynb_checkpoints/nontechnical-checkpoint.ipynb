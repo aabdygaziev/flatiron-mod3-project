{
 "cells": [
  {
   "cell_type": "markdown",
   "metadata": {},
   "source": [
    "# Project write-up"
   ]
  },
  {
   "cell_type": "markdown",
   "metadata": {},
   "source": [
<<<<<<< HEAD
    "One of the defining features of Trump's presidency is his usage of his twitter account. Many have expressed concern whether or not his, at times seemingly reckless, usage of his twitter could have a lasting, potentially negative, impact. To address these concerns, we have embarked on a project to determine the impact of Trump's twitter presence on his approval rating and the stock market. In particular, what we investigated was:\n",
    "- The impact of Trump's total tweets per day on his approval rating\n",
    "- The impact of Trump's total tweets per day on the stock market\n",
    "- The impact of the average number of favorites per tweet per day on his approval rating\n",
    "- The impact of the average number of favorites per tweet per day on the stock market\n",
    "\n"
   ]
  },
  {
   "cell_type": "markdown",
   "metadata": {},
   "source": [
    "Our data were obtained from the following sources:\n",
    "- Alpha vantage API was used for S&P 500 stock market information\n",
    "- Tweets were obtained from trumptwitterarchive.com\n",
    "- Approval rating was obtained through fivethirtyeight.com"
   ]
  },
  {
   "cell_type": "markdown",
   "metadata": {},
   "source": [
    "To investigate these hypotheses, we classified each day as having either a low number of tweets or a high number of tweets, which we defined as having either less than 15 tweets or having 15 or more tweets. From there we turned to our stock market database and our approval rating database. We compared the data on the days where were a low number of tweets and the days where there were a high number of tweets. From this analysis, we were able to prove our first null hypothesis and disprove our second. In other words, we found that there is no connection between the number of tweets Trump makes per day and his approval rating, and there is a connection between the number of tweets per day and the performance of the stock market, particularly that the more he tweeted, the worse the stock market did. "
   ]
  },
  {
   "cell_type": "code",
   "execution_count": null,
   "metadata": {},
   "outputs": [],
   "source": []
=======
    "In this project we wanted to investigate the impact of Donald Trumps tweets on his approval rating and the stock market. To do this we classified each day as having either a low number of tweets, which we defined as having less than 15 tweets, or as having a high number of tweets, which we defined as having 15 or more tweets. From there we took the table of daily approval ratings we obtained, and compared the approval ratings on the days with a high volume of tweets and the days with a low volume of tweets. "
   ]
>>>>>>> a6b4308fd8999354ee053901ae26dffc9366afee
  }
 ],
 "metadata": {
  "kernelspec": {
   "display_name": "Python 3",
   "language": "python",
   "name": "python3"
  },
  "language_info": {
   "codemirror_mode": {
    "name": "ipython",
    "version": 3
   },
   "file_extension": ".py",
   "mimetype": "text/x-python",
   "name": "python",
   "nbconvert_exporter": "python",
   "pygments_lexer": "ipython3",
   "version": "3.7.3"
  }
 },
 "nbformat": 4,
 "nbformat_minor": 4
}
