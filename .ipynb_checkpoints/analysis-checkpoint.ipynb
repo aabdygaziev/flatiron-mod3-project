{
 "cells": [
  {
   "cell_type": "code",
   "execution_count": 1,
   "metadata": {},
   "outputs": [],
   "source": [
    "import pandas as pd\n",
    "from scipy import stats\n",
    "import matplotlib.pyplot as plt"
   ]
  },
  {
   "cell_type": "code",
   "execution_count": 165,
   "metadata": {},
   "outputs": [],
   "source": [
    "df_stocks = pd.read_csv('data/stocks.csv')\n",
    "df_tweets = pd.read_csv('data/TrumpTweets.csv',index_col=0)\n",
    "df_approval_ratign = pd.read_csv('data/TrumpApproval.csv')"
   ]
  },
  {
   "cell_type": "code",
   "execution_count": 168,
   "metadata": {},
   "outputs": [
    {
     "data": {
      "text/plain": [
       "(962, 4)"
      ]
     },
     "execution_count": 168,
     "metadata": {},
     "output_type": "execute_result"
    }
   ],
   "source": [
    "df_approval_ratign.shape"
   ]
  },
  {
   "cell_type": "code",
   "execution_count": 3,
   "metadata": {},
   "outputs": [
    {
     "data": {
      "text/html": [
       "<div>\n",
       "<style scoped>\n",
       "    .dataframe tbody tr th:only-of-type {\n",
       "        vertical-align: middle;\n",
       "    }\n",
       "\n",
       "    .dataframe tbody tr th {\n",
       "        vertical-align: top;\n",
       "    }\n",
       "\n",
       "    .dataframe thead th {\n",
       "        text-align: right;\n",
       "    }\n",
       "</style>\n",
       "<table border=\"1\" class=\"dataframe\">\n",
       "  <thead>\n",
       "    <tr style=\"text-align: right;\">\n",
       "      <th></th>\n",
       "      <th>Unnamed: 0</th>\n",
       "      <th>approve_estimate</th>\n",
       "      <th>disapprove_estimate</th>\n",
       "      <th>timestamp</th>\n",
       "    </tr>\n",
       "  </thead>\n",
       "  <tbody>\n",
       "    <tr>\n",
       "      <th>0</th>\n",
       "      <td>0</td>\n",
       "      <td>42.81609</td>\n",
       "      <td>53.54470</td>\n",
       "      <td>2019-09-11</td>\n",
       "    </tr>\n",
       "    <tr>\n",
       "      <th>1</th>\n",
       "      <td>3</td>\n",
       "      <td>42.54695</td>\n",
       "      <td>53.41855</td>\n",
       "      <td>2019-09-10</td>\n",
       "    </tr>\n",
       "    <tr>\n",
       "      <th>2</th>\n",
       "      <td>8</td>\n",
       "      <td>42.62912</td>\n",
       "      <td>53.25327</td>\n",
       "      <td>2019-09-09</td>\n",
       "    </tr>\n",
       "    <tr>\n",
       "      <th>3</th>\n",
       "      <td>9</td>\n",
       "      <td>42.59635</td>\n",
       "      <td>53.27431</td>\n",
       "      <td>2019-09-08</td>\n",
       "    </tr>\n",
       "    <tr>\n",
       "      <th>4</th>\n",
       "      <td>12</td>\n",
       "      <td>42.64939</td>\n",
       "      <td>53.15034</td>\n",
       "      <td>2019-09-07</td>\n",
       "    </tr>\n",
       "  </tbody>\n",
       "</table>\n",
       "</div>"
      ],
      "text/plain": [
       "   Unnamed: 0  approve_estimate  disapprove_estimate   timestamp\n",
       "0           0          42.81609             53.54470  2019-09-11\n",
       "1           3          42.54695             53.41855  2019-09-10\n",
       "2           8          42.62912             53.25327  2019-09-09\n",
       "3           9          42.59635             53.27431  2019-09-08\n",
       "4          12          42.64939             53.15034  2019-09-07"
      ]
     },
     "execution_count": 3,
     "metadata": {},
     "output_type": "execute_result"
    }
   ],
   "source": [
    "df_approval_ratign.head()"
   ]
  },
  {
   "cell_type": "code",
   "execution_count": 4,
   "metadata": {},
   "outputs": [
    {
     "data": {
      "text/plain": [
       "date                     2018-12-31\n",
       "count                            35\n",
       "avg_favorites_per_day        320104\n",
       "dtype: object"
      ]
     },
     "execution_count": 4,
     "metadata": {},
     "output_type": "execute_result"
    }
   ],
   "source": [
    "df_tweets.max(axis=0)"
   ]
  },
  {
   "cell_type": "code",
   "execution_count": 5,
   "metadata": {},
   "outputs": [
    {
     "name": "stdout",
     "output_type": "stream",
     "text": [
      "<class 'pandas.core.frame.DataFrame'>\n",
      "RangeIndex: 502 entries, 0 to 501\n",
      "Data columns (total 6 columns):\n",
      "Unnamed: 0           502 non-null object\n",
      "1. open              502 non-null float64\n",
      "2. high              502 non-null float64\n",
      "3. low               502 non-null float64\n",
      "4. close             502 non-null float64\n",
      "5. adjusted close    502 non-null float64\n",
      "dtypes: float64(5), object(1)\n",
      "memory usage: 23.7+ KB\n"
     ]
    }
   ],
   "source": [
    "df_stocks['1. open'] = df_stocks['1. open'].astype(float)\n",
    "df_stocks['2. high'] = df_stocks['2. high'].astype(float)\n",
    "df_stocks['3. low'] = df_stocks['3. low'].astype(float)\n",
    "df_stocks['4. close'] = df_stocks['4. close'].astype(float)\n",
    "df_stocks['5. adjusted close'] = df_stocks['5. adjusted close'].astype(float)\n",
    "df_stocks.info()"
   ]
  },
  {
   "cell_type": "code",
   "execution_count": 6,
   "metadata": {},
   "outputs": [],
   "source": [
    "df_stocks['delta']=((df_stocks['5. adjusted close']-df_stocks['1. open'])/df_stocks['1. open'])*100"
   ]
  },
  {
   "cell_type": "code",
   "execution_count": 7,
   "metadata": {},
   "outputs": [],
   "source": [
    "mean_tweets = df_tweets['count'].mean()\n",
    "a = df_tweets[df_tweets['count']<8]\n",
    "b = df_tweets[df_tweets['count']>=8]\n"
   ]
  },
  {
   "cell_type": "code",
   "execution_count": 8,
   "metadata": {},
   "outputs": [
    {
     "data": {
      "text/plain": [
       "Ttest_indResult(statistic=1.9539281252547294, pvalue=0.051355550748795414)"
      ]
     },
     "execution_count": 8,
     "metadata": {},
     "output_type": "execute_result"
    }
   ],
   "source": [
    "c = df_stocks[df_stocks.index.isin(a.index)]\n",
    "d = df_stocks[df_stocks.index.isin(b.index)]\n",
    "stats.ttest_ind(c['delta'],d['delta'], equal_var = False)"
   ]
  },
  {
   "cell_type": "code",
   "execution_count": 9,
   "metadata": {},
   "outputs": [
    {
     "data": {
      "text/plain": [
       "1. open              239.830572\n",
       "2. high              240.732292\n",
       "3. low               238.742447\n",
       "4. close             239.771110\n",
       "5. adjusted close    232.604772\n",
       "delta                 -3.079006\n",
       "dtype: float64"
      ]
     },
     "execution_count": 9,
     "metadata": {},
     "output_type": "execute_result"
    }
   ],
   "source": [
    "c.mean()"
   ]
  },
  {
   "cell_type": "code",
   "execution_count": 10,
   "metadata": {},
   "outputs": [
    {
     "name": "stdout",
     "output_type": "stream",
     "text": [
      "-3.079005661914955\n",
      "-3.296654588132704\n"
     ]
    }
   ],
   "source": [
    "print(c['delta'].mean())\n",
    "print(d['delta'].mean())"
   ]
  },
  {
   "cell_type": "code",
   "execution_count": 11,
   "metadata": {},
   "outputs": [
    {
     "data": {
      "text/plain": [
       "-0.11621111670259013"
      ]
     },
     "execution_count": 11,
     "metadata": {},
     "output_type": "execute_result"
    }
   ],
   "source": [
    "df_tweets['count'].corr(df_stocks['delta'])"
   ]
  },
  {
   "cell_type": "code",
   "execution_count": 12,
   "metadata": {},
   "outputs": [
    {
     "data": {
      "text/plain": [
       "-0.26308377055632265"
      ]
     },
     "execution_count": 12,
     "metadata": {},
     "output_type": "execute_result"
    }
   ],
   "source": [
    "df_tweets['count'].corr(df_approval_ratign['approve_estimate'])"
   ]
  },
  {
   "cell_type": "code",
   "execution_count": 13,
   "metadata": {},
   "outputs": [],
   "source": [
    "import matplotlib.pyplot as plt\n",
    "import numpy as np"
   ]
  },
  {
   "cell_type": "code",
   "execution_count": 71,
   "metadata": {},
   "outputs": [
    {
     "name": "stdout",
     "output_type": "stream",
     "text": [
      "<class 'pandas.core.frame.DataFrame'>\n",
      "Index: 716 entries, 2018-12-31 to 2017-01-01\n",
      "Data columns (total 2 columns):\n",
      "count                    716 non-null int64\n",
      "avg_favorites_per_day    716 non-null float64\n",
      "dtypes: float64(1), int64(1)\n",
      "memory usage: 16.8+ KB\n"
     ]
    }
   ],
   "source": [
    "df_tweets.info()"
   ]
  },
  {
   "cell_type": "code",
   "execution_count": 77,
   "metadata": {},
   "outputs": [],
   "source": [
    "df_stocks['Unnamed: 0'] = pd.to_datetime(df_stocks['Unnamed: 0'])"
   ]
  },
  {
   "cell_type": "code",
   "execution_count": 84,
   "metadata": {},
   "outputs": [],
   "source": [
    "df_stocks.set_index('Unnamed: 0',inplace=True)"
   ]
  },
  {
   "cell_type": "code",
   "execution_count": 82,
   "metadata": {},
   "outputs": [
    {
     "data": {
      "text/plain": [
       "Index(['2018-12-31', '2018-12-30', '2018-12-29', '2018-12-28', '2018-12-27',\n",
       "       '2018-12-26', '2018-12-25', '2018-12-24', '2018-12-23', '2018-12-22',\n",
       "       ...\n",
       "       '2017-01-10', '2017-01-09', '2017-01-08', '2017-01-07', '2017-01-06',\n",
       "       '2017-01-05', '2017-01-04', '2017-01-03', '2017-01-02', '2017-01-01'],\n",
       "      dtype='object', name='date', length=716)"
      ]
     },
     "execution_count": 82,
     "metadata": {},
     "output_type": "execute_result"
    }
   ],
   "source": [
    "df_tweets.index"
   ]
  },
  {
   "cell_type": "code",
   "execution_count": 85,
   "metadata": {},
   "outputs": [],
   "source": [
    "temp_df = pd.merge(df_stocks,df_tweets,left_index=True,right_index=True)"
   ]
  },
  {
   "cell_type": "code",
   "execution_count": 157,
   "metadata": {},
   "outputs": [
    {
     "data": {
      "text/html": [
       "<div>\n",
       "<style scoped>\n",
       "    .dataframe tbody tr th:only-of-type {\n",
       "        vertical-align: middle;\n",
       "    }\n",
       "\n",
       "    .dataframe tbody tr th {\n",
       "        vertical-align: top;\n",
       "    }\n",
       "\n",
       "    .dataframe thead th {\n",
       "        text-align: right;\n",
       "    }\n",
       "</style>\n",
       "<table border=\"1\" class=\"dataframe\">\n",
       "  <thead>\n",
       "    <tr style=\"text-align: right;\">\n",
       "      <th></th>\n",
       "      <th>1. open</th>\n",
       "      <th>2. high</th>\n",
       "      <th>3. low</th>\n",
       "      <th>4. close</th>\n",
       "      <th>5. adjusted close</th>\n",
       "      <th>delta</th>\n",
       "      <th>count</th>\n",
       "      <th>avg_favorites_per_day</th>\n",
       "    </tr>\n",
       "  </thead>\n",
       "  <tbody>\n",
       "    <tr>\n",
       "      <th>2018-12-31</th>\n",
       "      <td>229.31</td>\n",
       "      <td>229.97</td>\n",
       "      <td>227.45</td>\n",
       "      <td>229.81</td>\n",
       "      <td>227.3423</td>\n",
       "      <td>-0.858096</td>\n",
       "      <td>12</td>\n",
       "      <td>91428.416667</td>\n",
       "    </tr>\n",
       "    <tr>\n",
       "      <th>2018-12-28</th>\n",
       "      <td>229.32</td>\n",
       "      <td>231.07</td>\n",
       "      <td>226.52</td>\n",
       "      <td>227.76</td>\n",
       "      <td>225.3143</td>\n",
       "      <td>-1.746773</td>\n",
       "      <td>5</td>\n",
       "      <td>129411.800000</td>\n",
       "    </tr>\n",
       "    <tr>\n",
       "      <th>2018-12-27</th>\n",
       "      <td>222.96</td>\n",
       "      <td>228.12</td>\n",
       "      <td>219.60</td>\n",
       "      <td>228.05</td>\n",
       "      <td>225.6012</td>\n",
       "      <td>1.184607</td>\n",
       "      <td>12</td>\n",
       "      <td>109374.666667</td>\n",
       "    </tr>\n",
       "    <tr>\n",
       "      <th>2018-12-26</th>\n",
       "      <td>216.88</td>\n",
       "      <td>226.10</td>\n",
       "      <td>214.83</td>\n",
       "      <td>225.95</td>\n",
       "      <td>223.5237</td>\n",
       "      <td>3.063307</td>\n",
       "      <td>1</td>\n",
       "      <td>222929.000000</td>\n",
       "    </tr>\n",
       "    <tr>\n",
       "      <th>2018-12-24</th>\n",
       "      <td>219.74</td>\n",
       "      <td>220.80</td>\n",
       "      <td>215.07</td>\n",
       "      <td>215.07</td>\n",
       "      <td>212.7606</td>\n",
       "      <td>-3.176208</td>\n",
       "      <td>18</td>\n",
       "      <td>110681.333333</td>\n",
       "    </tr>\n",
       "  </tbody>\n",
       "</table>\n",
       "</div>"
      ],
      "text/plain": [
       "            1. open  2. high  3. low  4. close  5. adjusted close     delta  \\\n",
       "2018-12-31   229.31   229.97  227.45    229.81           227.3423 -0.858096   \n",
       "2018-12-28   229.32   231.07  226.52    227.76           225.3143 -1.746773   \n",
       "2018-12-27   222.96   228.12  219.60    228.05           225.6012  1.184607   \n",
       "2018-12-26   216.88   226.10  214.83    225.95           223.5237  3.063307   \n",
       "2018-12-24   219.74   220.80  215.07    215.07           212.7606 -3.176208   \n",
       "\n",
       "            count  avg_favorites_per_day  \n",
       "2018-12-31     12           91428.416667  \n",
       "2018-12-28      5          129411.800000  \n",
       "2018-12-27     12          109374.666667  \n",
       "2018-12-26      1          222929.000000  \n",
       "2018-12-24     18          110681.333333  "
      ]
     },
     "execution_count": 157,
     "metadata": {},
     "output_type": "execute_result"
    }
   ],
   "source": [
    "temp_df.head()"
   ]
  },
  {
   "cell_type": "code",
   "execution_count": 181,
   "metadata": {},
   "outputs": [],
   "source": [
    "df_approval_ratign.drop_duplicates('timestamp',inplace=True)"
   ]
  },
  {
   "cell_type": "code",
   "execution_count": 131,
   "metadata": {},
   "outputs": [],
   "source": [
    "df = temp_df.join(df_approval_ratign.set_index('timestamp'), how='left')"
   ]
  },
  {
   "cell_type": "code",
   "execution_count": 136,
   "metadata": {},
   "outputs": [],
   "source": [
    "df.drop('Unnamed: 0',axis=1,inplace=True)"
   ]
  },
  {
   "cell_type": "code",
   "execution_count": 151,
   "metadata": {},
   "outputs": [],
   "source": [
    "df.to_csv('final.csv')"
   ]
  },
  {
   "cell_type": "code",
   "execution_count": 188,
   "metadata": {},
   "outputs": [],
   "source": [
    "df = df.loc[~df.index.duplicated(keep='first')]"
   ]
  },
  {
   "cell_type": "code",
   "execution_count": 193,
   "metadata": {},
   "outputs": [
    {
     "data": {
      "text/plain": [
       "(450, 10)"
      ]
     },
     "execution_count": 193,
     "metadata": {},
     "output_type": "execute_result"
    }
   ],
   "source": [
    "df.shape"
   ]
  },
  {
   "cell_type": "code",
   "execution_count": null,
   "metadata": {},
   "outputs": [],
   "source": []
  }
 ],
 "metadata": {
  "kernelspec": {
   "display_name": "Python 3",
   "language": "python",
   "name": "python3"
  },
  "language_info": {
   "codemirror_mode": {
    "name": "ipython",
    "version": 3
   },
   "file_extension": ".py",
   "mimetype": "text/x-python",
   "name": "python",
   "nbconvert_exporter": "python",
   "pygments_lexer": "ipython3",
   "version": "3.7.3"
  }
 },
 "nbformat": 4,
 "nbformat_minor": 4
}
