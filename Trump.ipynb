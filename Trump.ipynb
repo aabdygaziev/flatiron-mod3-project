{
 "cells": [
  {
   "cell_type": "code",
   "execution_count": 16,
   "metadata": {},
   "outputs": [],
   "source": [
    "import requests\n",
    "import json\n",
    "import pandas as pd\n",
    "from scipy import stats\n"
   ]
  },
  {
   "cell_type": "code",
   "execution_count": 22,
   "metadata": {},
   "outputs": [
    {
     "data": {
      "text/plain": [
       "{'1. Information': 'Daily Time Series with Splits and Dividend Events',\n",
       " '2. Symbol': 'VOO',\n",
       " '3. Last Refreshed': '2019-09-11 15:13:22',\n",
       " '4. Output Size': 'Full size',\n",
       " '5. Time Zone': 'US/Eastern'}"
      ]
     },
     "execution_count": 22,
     "metadata": {},
     "output_type": "execute_result"
    }
   ],
   "source": [
    "url = 'https://www.alphavantage.co/query?function=TIME_SERIES_DAILY_ADJUSTED&symbol=VOO&outputsize=full&apikey=2XZJV1NODSI2NNNW&'\n",
    "resp = requests.get(url)\n",
    "resp.json()['Meta Data']"
   ]
  },
  {
   "cell_type": "code",
   "execution_count": 17,
   "metadata": {},
   "outputs": [],
   "source": [
    "df_trump_2018 = pd.read_json('condensed_2018.json')\n",
    "df_trump_2017 = pd.read_json('condensed_2017.json')\n",
    "frames = [df_trump_2018, df_trump_2017]\n",
    "df_trump = pd.concat(frames)"
   ]
  },
  {
   "cell_type": "code",
   "execution_count": 18,
   "metadata": {
    "scrolled": true
   },
   "outputs": [],
   "source": [
    "df_trump_count = df_trump\n",
    "df_trump_count['date'] = df_trump['created_at'].dt.date\n",
    "df_trump_count = df_trump_count.groupby(by='date').count()"
   ]
  },
  {
   "cell_type": "code",
   "execution_count": 19,
   "metadata": {},
   "outputs": [],
   "source": [
    "df_trump_count['count']= df_trump_count['created_at']\n",
    "df_trump_count['avg_favorites_per_day'] = df_trump.groupby(by='date').sum()['favorite_count']\n",
    "df_trump_count['avg_favorites_per_day'] = df_trump_count['avg_favorites_per_day']/df_trump_count['count']\n",
    "df_trump_count = df_trump_count[['count','avg_favorites_per_day']]"
   ]
  },
  {
   "cell_type": "code",
   "execution_count": 20,
   "metadata": {},
   "outputs": [],
   "source": [
    "df_trump_approval = pd.read_csv('approval_topline.csv')\n",
    "df_trump_approval = df_trump_approval.loc[df_trump_approval['subgroup'] == 'Voters']\n",
    "df_trump_approval = df_trump_approval[['approve_estimate', 'disapprove_estimate', 'timestamp']]\n",
    "df_trump_approval.timestamp = pd.to_datetime(df_trump_approval.timestamp)\n",
    "df_trump_approval.timestamp = df_trump_approval.timestamp.dt.date"
   ]
  },
  {
   "cell_type": "code",
   "execution_count": 109,
   "metadata": {
    "scrolled": true
   },
   "outputs": [
    {
     "data": {
      "text/html": [
       "<div>\n",
       "<style scoped>\n",
       "    .dataframe tbody tr th:only-of-type {\n",
       "        vertical-align: middle;\n",
       "    }\n",
       "\n",
       "    .dataframe tbody tr th {\n",
       "        vertical-align: top;\n",
       "    }\n",
       "\n",
       "    .dataframe thead th {\n",
       "        text-align: right;\n",
       "    }\n",
       "</style>\n",
       "<table border=\"1\" class=\"dataframe\">\n",
       "  <thead>\n",
       "    <tr style=\"text-align: right;\">\n",
       "      <th></th>\n",
       "      <th>1. open</th>\n",
       "      <th>2. high</th>\n",
       "      <th>3. low</th>\n",
       "      <th>4. close</th>\n",
       "      <th>5. adjusted close</th>\n",
       "    </tr>\n",
       "  </thead>\n",
       "  <tbody>\n",
       "    <tr>\n",
       "      <th>2018-12-31</th>\n",
       "      <td>229.3100</td>\n",
       "      <td>229.9700</td>\n",
       "      <td>227.4500</td>\n",
       "      <td>229.8100</td>\n",
       "      <td>227.3423</td>\n",
       "    </tr>\n",
       "    <tr>\n",
       "      <th>2018-12-28</th>\n",
       "      <td>229.3200</td>\n",
       "      <td>231.0700</td>\n",
       "      <td>226.5200</td>\n",
       "      <td>227.7600</td>\n",
       "      <td>225.3143</td>\n",
       "    </tr>\n",
       "    <tr>\n",
       "      <th>2018-12-27</th>\n",
       "      <td>222.9600</td>\n",
       "      <td>228.1200</td>\n",
       "      <td>219.6000</td>\n",
       "      <td>228.0500</td>\n",
       "      <td>225.6012</td>\n",
       "    </tr>\n",
       "    <tr>\n",
       "      <th>2018-12-26</th>\n",
       "      <td>216.8800</td>\n",
       "      <td>226.1000</td>\n",
       "      <td>214.8300</td>\n",
       "      <td>225.9500</td>\n",
       "      <td>223.5237</td>\n",
       "    </tr>\n",
       "    <tr>\n",
       "      <th>2018-12-24</th>\n",
       "      <td>219.7400</td>\n",
       "      <td>220.8000</td>\n",
       "      <td>215.0700</td>\n",
       "      <td>215.0700</td>\n",
       "      <td>212.7606</td>\n",
       "    </tr>\n",
       "  </tbody>\n",
       "</table>\n",
       "</div>"
      ],
      "text/plain": [
       "             1. open   2. high    3. low  4. close 5. adjusted close\n",
       "2018-12-31  229.3100  229.9700  227.4500  229.8100          227.3423\n",
       "2018-12-28  229.3200  231.0700  226.5200  227.7600          225.3143\n",
       "2018-12-27  222.9600  228.1200  219.6000  228.0500          225.6012\n",
       "2018-12-26  216.8800  226.1000  214.8300  225.9500          223.5237\n",
       "2018-12-24  219.7400  220.8000  215.0700  215.0700          212.7606"
      ]
     },
     "execution_count": 109,
     "metadata": {},
     "output_type": "execute_result"
    }
   ],
   "source": [
    "\n",
    "\n",
    "df = pd.DataFrame(resp.json()['Time Series (Daily)'])\n",
    "pd.to_datetime(df.columns)\n",
    "df_transposed = df.transpose().set_index(df.columns)\n",
    "df_filtered = df_transposed.iloc[175:677]\n",
    "a = list(df_transposed.index)\n",
    "df_clean = df_filtered.drop(['8. split coefficient','7. dividend amount','6. volume'], axis=1)\n",
    "df_stocks = df_clean\n",
    "df_stocks.index = pd.to_datetime(df_stocks.index)\n",
    "df_stocks.head()\n"
   ]
  },
  {
   "cell_type": "code",
   "execution_count": 138,
   "metadata": {},
   "outputs": [
    {
     "name": "stdout",
     "output_type": "stream",
     "text": [
      "<class 'pandas.core.frame.DataFrame'>\n",
      "DatetimeIndex: 502 entries, 2018-12-31 to 2017-01-03\n",
      "Data columns (total 5 columns):\n",
      "1. open              502 non-null float64\n",
      "2. high              502 non-null float64\n",
      "3. low               502 non-null float64\n",
      "4. close             502 non-null float64\n",
      "5. adjusted close    502 non-null float64\n",
      "dtypes: float64(5)\n",
      "memory usage: 23.5 KB\n"
     ]
    }
   ],
   "source": [
    "df_stocks['1. open'] = df_stocks['1. open'].astype(float)\n",
    "df_stocks['2. high'] = df_stocks['2. high'].astype(float)\n",
    "df_stocks['3. low'] = df_stocks['3. low'].astype(float)\n",
    "df_stocks['4. close'] = df_stocks['4. close'].astype(float)\n",
    "df_stocks['5. adjusted close'] = df_stocks['5. adjusted close'].astype(float)\n",
    "df_stocks.info()"
   ]
  },
  {
   "cell_type": "code",
   "execution_count": 207,
   "metadata": {},
   "outputs": [
    {
     "name": "stdout",
     "output_type": "stream",
     "text": [
      "8.54050279329609\n"
     ]
    },
    {
     "data": {
      "text/plain": [
       "Index([2017-01-01, 2017-01-02, 2017-01-03, 2017-01-04, 2017-01-05, 2017-01-06,\n",
       "       2017-01-07, 2017-01-08, 2017-01-09, 2017-01-10,\n",
       "       ...\n",
       "       2018-12-19, 2018-12-22, 2018-12-23, 2018-12-25, 2018-12-26, 2018-12-27,\n",
       "       2018-12-28, 2018-12-29, 2018-12-30, 2018-12-31],\n",
       "      dtype='object', name='date', length=631)"
      ]
     },
     "execution_count": 207,
     "metadata": {},
     "output_type": "execute_result"
    }
   ],
   "source": [
    "mean_tweets = df_trump_count['count'].mean()\n",
    "print(mean_tweets)\n",
    "a = df_trump_count[df_trump_count['count']<15]\n",
    "b = df_trump_count[df_trump_count['count']>=15]\n",
    "a.index"
   ]
  },
  {
   "cell_type": "code",
   "execution_count": 208,
   "metadata": {},
   "outputs": [
    {
     "data": {
      "text/plain": [
       "Ttest_indResult(statistic=-0.43092443703885364, pvalue=0.6672753457013607)"
      ]
     },
     "execution_count": 208,
     "metadata": {},
     "output_type": "execute_result"
    }
   ],
   "source": [
    "c = df_trump_approval[df_trump_approval['timestamp'].isin(a.index)]\n",
    "d = df_trump_approval[df_trump_approval['timestamp'].isin(b.index)]\n",
    "stats.ttest_ind(c['approve_estimate'],d['approve_estimate'], equal_var = False)\n",
    "\n"
   ]
  },
  {
   "cell_type": "code",
   "execution_count": 209,
   "metadata": {},
   "outputs": [
    {
     "data": {
      "text/plain": [
       "Ttest_indResult(statistic=-7.750745549493501, pvalue=4.6528643888092445e-12)"
      ]
     },
     "execution_count": 209,
     "metadata": {},
     "output_type": "execute_result"
    }
   ],
   "source": [
    "c = df_stocks[df_stocks.index.isin(a.index)]\n",
    "d = df_stocks[df_stocks.index.isin(b.index)]\n",
    "stats.ttest_ind(c['5. adjusted close'],d['5. adjusted close'], equal_var = False)"
   ]
  },
  {
   "cell_type": "code",
   "execution_count": 210,
   "metadata": {},
   "outputs": [
    {
     "name": "stdout",
     "output_type": "stream",
     "text": [
      "-0.032923070059652094\n",
      "-0.02492375691714304\n"
     ]
    }
   ],
   "source": [
    "print(((c['5. adjusted close']- c['1. open'])/c['1. open']).mean())\n",
    "print(((d['5. adjusted close']- d['1. open'])/d['1. open']).mean())"
   ]
  },
  {
   "cell_type": "code",
   "execution_count": null,
   "metadata": {},
   "outputs": [],
   "source": []
  },
  {
   "cell_type": "code",
   "execution_count": null,
   "metadata": {},
   "outputs": [],
   "source": []
  }
 ],
 "metadata": {
  "kernelspec": {
   "display_name": "learn-env",
   "language": "python",
   "name": "learn-env"
  },
  "language_info": {
   "codemirror_mode": {
    "name": "ipython",
    "version": 3
   },
   "file_extension": ".py",
   "mimetype": "text/x-python",
   "name": "python",
   "nbconvert_exporter": "python",
   "pygments_lexer": "ipython3",
   "version": "3.6.6"
  }
 },
 "nbformat": 4,
 "nbformat_minor": 2
}
